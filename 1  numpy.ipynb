{
 "cells": [
  {
   "cell_type": "markdown",
   "metadata": {},
   "source": [
    "## 특징\n",
    "---\n",
    "\n",
    "    1) 벡터 및 행렬 연산과 관련된 편리한 기능 제공\n",
    "    2) list와 거의 동일하지만 numpy배열의 특징을 갖는다.\n",
    "        - 배열 : 모든 원소가 같은 자료형이어야 한다. 원소의 갯수를 바꿀 수 없다.\n",
    "    3) 빠른 속도를 지원    \n",
    "    4) 벡터화 연산, 배열 인덱싱을 통한 질의 가능\n",
    "    5) http:// www.numpy.org    \n",
    "    \n",
    "    \n",
    "    \n",
    "\n",
    "\n"
   ]
  },
  {
   "cell_type": "code",
   "execution_count": 1,
   "metadata": {},
   "outputs": [],
   "source": [
    "import numpy as np"
   ]
  },
  {
   "cell_type": "markdown",
   "metadata": {},
   "source": [
    "## 1차원 배열"
   ]
  },
  {
   "cell_type": "code",
   "execution_count": 3,
   "metadata": {},
   "outputs": [
    {
     "name": "stdout",
     "output_type": "stream",
     "text": [
      "[1, 2, 3, 4, 5, 10, 20, '가나다']\n",
      "<class 'list'>\n"
     ]
    }
   ],
   "source": [
    "a1=[1,2,3,4,5,10,20,\"가나다\"]\n",
    "print(a1)\n",
    "print(type(a1))"
   ]
  },
  {
   "cell_type": "code",
   "execution_count": 9,
   "metadata": {},
   "outputs": [
    {
     "name": "stdout",
     "output_type": "stream",
     "text": [
      "['1' '2' '3' '4' '5' '10' '20' '가나다']\n",
      "<class 'numpy.ndarray'>\n",
      "(8,)\n",
      "1\n"
     ]
    }
   ],
   "source": [
    "a2 = np.array([1,2,3,4,5,10,20,\"가나다\"])\n",
    "print(a2)\n",
    "print(type(a2))\n",
    "print(a2.shape)   # 숫자, = 일차원 배열\n",
    "print(a2.ndim)    # 차원을 알려줌"
   ]
  },
  {
   "cell_type": "code",
   "execution_count": 20,
   "metadata": {},
   "outputs": [
    {
     "name": "stdout",
     "output_type": "stream",
     "text": [
      "[1, 2, 3, 4, 5, 6, 7, 8, 9, 1, 2, 3, 4, 5, 6, 7, 8, 9]\n",
      "[ 2  4  6  8 10 12 14 16 18]\n",
      "[ 3  4  5  6  7  8  9 10 11]\n",
      "----------------------\n",
      "1\n"
     ]
    }
   ],
   "source": [
    "#벡터화 연산\n",
    "data= [1,2,3,4,5,6,7,8,9]\n",
    "print(data * 2)\n",
    "# print(data - 2 ) 에러\n",
    "\n",
    "data2 = np.array(data)\n",
    "print(data2 * 2)\n",
    "print(data2 + 2)\n",
    "print(\"----------------------\")\n",
    "print(data2[0])"
   ]
  },
  {
   "cell_type": "markdown",
   "metadata": {},
   "source": [
    "## 2차원 배열"
   ]
  },
  {
   "cell_type": "code",
   "execution_count": 23,
   "metadata": {},
   "outputs": [
    {
     "name": "stdout",
     "output_type": "stream",
     "text": [
      "[[0 1 2]\n",
      " [3 4 5]]\n",
      "(2, 3)\n",
      "2\n",
      "----------------------\n",
      "[0 1 2]\n",
      "1\n",
      "2\n",
      "3\n"
     ]
    }
   ],
   "source": [
    "arr = np.array( [[0,1,2],[3,4,5]]) \n",
    "# [] 하나하나가 0번째, 1번째 인덱스. 따라서 []내부 숫자 빼오려면 인덱스 2번\n",
    "print(arr)\n",
    "print(arr.shape)\n",
    "print(arr.ndim)\n",
    "print(\"----------------------\")\n",
    "print(arr[0])\n",
    "print(arr[0][1])\n",
    "print(len(arr))\n",
    "print(len(arr[0]))"
   ]
  },
  {
   "cell_type": "markdown",
   "metadata": {},
   "source": [
    "## 3차원배열"
   ]
  },
  {
   "cell_type": "code",
   "execution_count": 29,
   "metadata": {},
   "outputs": [
    {
     "name": "stdout",
     "output_type": "stream",
     "text": [
      "[[[ 1  2  3  4]\n",
      "  [ 5  6  7  8]\n",
      "  [ 9 10 11 12]]\n",
      "\n",
      " [[13 14 15 16]\n",
      "  [17 18 19 20]\n",
      "  [21 22 23 24]]]\n",
      "----------------------\n",
      "[[ 1  2  3  4]\n",
      " [ 5  6  7  8]\n",
      " [ 9 10 11 12]]\n",
      "----------------------\n",
      "[1 2 3 4]\n",
      "----------------------\n",
      "1\n",
      "----------------------\n",
      "(2, 3, 4)\n",
      "3\n",
      "2 3 4\n"
     ]
    }
   ],
   "source": [
    "arr= np.array([[[1,2,3,4],[5,6,7,8],[9,10,11,12]],\n",
    " [[13,14,15,16],[17,18,19,20],[21,22,23,24]]])\n",
    "\n",
    "print(arr)\n",
    "print(\"----------------------\")\n",
    "print(arr[0])\n",
    "print(\"----------------------\")\n",
    "print(arr[0][0])\n",
    "print(\"----------------------\")\n",
    "print(arr[0][0][0])\n",
    "print(\"----------------------\")\n",
    "print(arr.shape)\n",
    "print(arr.ndim)\n",
    "print(len(arr),len(arr[0]),len(arr[0][0]))"
   ]
  },
  {
   "cell_type": "code",
   "execution_count": 30,
   "metadata": {},
   "outputs": [
    {
     "name": "stdout",
     "output_type": "stream",
     "text": [
      "2\n",
      "(1, 1)\n"
     ]
    }
   ],
   "source": [
    "arr=np.array([[1]])\n",
    "print(arr.ndim)\n",
    "print(arr.shape)"
   ]
  },
  {
   "cell_type": "markdown",
   "metadata": {},
   "source": [
    "## 배열의 인덱싱"
   ]
  },
  {
   "cell_type": "code",
   "execution_count": 33,
   "metadata": {},
   "outputs": [
    {
     "name": "stdout",
     "output_type": "stream",
     "text": [
      "2 4\n"
     ]
    }
   ],
   "source": [
    "arr=np.array([0,1,2,3,4])\n",
    "print(arr[2],arr[-1])"
   ]
  },
  {
   "cell_type": "code",
   "execution_count": 37,
   "metadata": {},
   "outputs": [
    {
     "name": "stdout",
     "output_type": "stream",
     "text": [
      "2 2 4 5\n"
     ]
    }
   ],
   "source": [
    "arr = np.array([[0,1,2],[3,4,5]])\n",
    "print(arr[0][2], arr[0,2], arr[1,1],arr[-1,-1])"
   ]
  },
  {
   "cell_type": "code",
   "execution_count": 93,
   "metadata": {
    "scrolled": true
   },
   "outputs": [
    {
     "name": "stdout",
     "output_type": "stream",
     "text": [
      "[0 1 2 3 4 5 6 7 8 9]\n",
      "[0 2 4 6 8]\n",
      "[0 1 0 1 0 1 0 1 0 1]\n",
      "[ True False  True False  True False  True False  True False]\n",
      "[0 2 4 6 8]\n",
      "----------------------\n",
      "[0 3 6 9]\n",
      "[1 5 9]\n",
      "[9]\n"
     ]
    }
   ],
   "source": [
    "#fancy indexing\n",
    "arr= np.array([i for i in range(10)])\n",
    "idx = np.array([True, False,True, False,True, False,True, False,True, False])\n",
    "\n",
    "print(arr)\n",
    "print(arr[idx])\n",
    "print(arr%2)\n",
    "print(arr%2==0)\n",
    "print(arr[arr%2==0])\n",
    "print(\"----------------------\")\n",
    "\n",
    "# arr에서 3의 배수를 찾아라\n",
    "print(arr[arr%3==0])\n",
    "# arr에서 4로 나누면 1이 남는 수를 찾아라\n",
    "print(arr[arr%4==1])\n",
    "#arr에서 3으로 나누면 나눠지고 4로 나누면 1이 남는 수를 찾아라\n",
    "print(arr[(arr % 3 == 0) & (arr % 4 == 1)])"
   ]
  },
  {
   "cell_type": "markdown",
   "metadata": {},
   "source": [
    "## 배열의 슬라이싱"
   ]
  },
  {
   "cell_type": "code",
   "execution_count": 76,
   "metadata": {},
   "outputs": [
    {
     "name": "stdout",
     "output_type": "stream",
     "text": [
      "[0 1 2 3]\n",
      "----------------------\n",
      "[0 1]\n",
      "----------------------\n",
      "[[4 5]\n",
      " [8 9]]\n",
      "----------------------\n",
      "[[0 1]\n",
      " [4 5]]\n",
      "[0 1]\n",
      "[[ 8  9 10 11]\n",
      " [ 4  5  6  7]\n",
      " [ 0  1  2  3]]\n"
     ]
    }
   ],
   "source": [
    "arr = np.array([[0,1,2,3],[4,5,6,7],[8,9,10,11]])\n",
    "\n",
    "print(arr[0,:])\n",
    "print(\"----------------------\")\n",
    "\n",
    "print(arr[0,0:2])\n",
    "\n",
    "print(\"----------------------\")\n",
    "print(arr[1:3,0:2])\n",
    "print(\"----------------------\")\n",
    "\n",
    "\n",
    "#0,1,4,5 뽑기\n",
    "print(arr[0:2,0:2])\n",
    "print(arr[0:2][0][0:2])\n",
    "\n",
    "#행의 위치 변경\n",
    "print(arr[[2,1,0],:])\n",
    "\n"
   ]
  },
  {
   "cell_type": "markdown",
   "metadata": {},
   "source": [
    "### Numpy 자료형\n",
    "    \n",
    "        -b : 논리형\n",
    "        -i : 정수          ex) i8\n",
    "        -u : 부호없는 정수\n",
    "        -f : 부동소수점\n",
    "        -c : 복소수\n",
    "        -0 : 객체\n",
    "        -S : 바이트 문자형 ex) S24 : 영문자 기준 24글자 쓰겠다/\n",
    "        -U : 유니코드"
   ]
  },
  {
   "cell_type": "code",
   "execution_count": 234,
   "metadata": {},
   "outputs": [
    {
     "name": "stdout",
     "output_type": "stream",
     "text": [
      "int32\n",
      "int32\n",
      "float64\n",
      "float64\n"
     ]
    }
   ],
   "source": [
    "arr = np.array([1,2,3])\n",
    "print(arr.dtype)\n",
    "\n",
    "arr = np.array([[0,1,2,3,4,5]])\n",
    "print(arr.dtype)\n",
    "\n",
    "arr = np.array([1.0,2.0,3.0])\n",
    "print(arr.dtype)\n",
    "\n",
    "arr = np.array([1,2,3.0])\n",
    "print(arr.dtype)"
   ]
  },
  {
   "cell_type": "code",
   "execution_count": 69,
   "metadata": {},
   "outputs": [
    {
     "name": "stdout",
     "output_type": "stream",
     "text": [
      "float32\n",
      "3.0\n",
      "<U1\n",
      "12\n"
     ]
    }
   ],
   "source": [
    "arr = np.array([1,2,3], dtype=\"f\")\n",
    "print(arr.dtype)\n",
    "print(arr[0]+arr[1])\n",
    "\n",
    "arr = np.array([1,2,3], dtype=\"U\")\n",
    "print(arr.dtype)\n",
    "print(arr[0]+arr[1])   # 문자열 연결"
   ]
  },
  {
   "cell_type": "markdown",
   "metadata": {},
   "source": [
    "### 배열 생성"
   ]
  },
  {
   "cell_type": "code",
   "execution_count": 100,
   "metadata": {},
   "outputs": [
    {
     "name": "stdout",
     "output_type": "stream",
     "text": [
      "[0. 0. 0. 0. 0.]\n",
      "<class 'numpy.ndarray'>\n",
      "float64\n",
      "---------------------\n",
      "[0 0 0 0 0]\n",
      "<class 'numpy.ndarray'>\n",
      "---------------------\n",
      "['' '' '' '' '']\n",
      "<U4\n",
      "['abc' 'abcd' 'abcd' '' '']\n",
      "---------------------\n",
      "[[0. 0. 0.]\n",
      " [0. 0. 0.]]\n",
      "---------------------\n",
      "[[[1. 1. 1. 1.]\n",
      "  [1. 1. 1. 1.]\n",
      "  [1. 1. 1. 1.]]\n",
      "\n",
      " [[1. 1. 1. 1.]\n",
      "  [1. 1. 1. 1.]\n",
      "  [1. 1. 1. 1.]]]\n",
      "---------------------\n",
      "[[0. 0. 0.]\n",
      " [0. 0. 0.]]\n",
      "[[1. 1. 1.]\n",
      " [1. 1. 1.]]\n",
      "---------------------\n",
      "[[4.24399158e-314 8.48798317e-314 1.27319747e-313]\n",
      " [1.69759663e-313 2.12199579e-313 2.54639495e-313]\n",
      " [2.97079411e-313 3.39519327e-313 3.81959242e-313]\n",
      " [4.24399158e-313 4.66839074e-313 5.09278990e-313]]\n",
      "---------------------\n",
      "[0 1 2 3 4 5 6 7 8 9]\n",
      "[ 3  5  7  9 11 13 15 17 19]\n",
      "---------------------\n",
      "[0 1 2 3 4 5 6 7 8 9]\n"
     ]
    }
   ],
   "source": [
    "arr = np.zeros(5)\n",
    "print(arr)\n",
    "print(type(arr))\n",
    "print(arr.dtype)\n",
    "\n",
    "print(\"---------------------\")\n",
    "arr = np.zeros(5, dtype=\"i\")\n",
    "print(arr)\n",
    "print(type(arr))\n",
    "\n",
    "print(\"---------------------\")\n",
    "arr = np.zeros(5, dtype=\"U4\")\n",
    "print(arr)\n",
    "print(arr.dtype)\n",
    "arr[0] = 'abc'\n",
    "arr[1] = 'abcd'\n",
    "arr[2] = 'abcde'   #크기 4로 정해져있으므로 5개는 안들어감\n",
    "print(arr)\n",
    "\n",
    "print(\"---------------------\")\n",
    "arr = np.zeros((2,3))\n",
    "print(arr)\n",
    "\n",
    "print(\"---------------------\")\n",
    "arr=np.ones((2,3,4))\n",
    "print(arr)\n",
    "\n",
    "\n",
    "print(\"---------------------\")\n",
    "arr1=np.zeros((2,3))\n",
    "arr2=np.ones_like(arr1)\n",
    "print(arr1)\n",
    "print(arr2)\n",
    "\n",
    "\n",
    "print(\"---------------------\")\n",
    "arr = np.empty((4,3))\n",
    "print(arr)\n",
    "\n",
    "print(\"---------------------\")\n",
    "arr = np.arange (10)\n",
    "print(arr)\n",
    "print(np.arange(3,21,2))\n",
    "\n",
    "\n",
    "print(\"---------------------\")\n",
    "np.linspace(0,100,5)\n",
    "print(arr)"
   ]
  },
  {
   "cell_type": "markdown",
   "metadata": {},
   "source": [
    "### 전치연산   T"
   ]
  },
  {
   "cell_type": "code",
   "execution_count": 102,
   "metadata": {},
   "outputs": [
    {
     "name": "stdout",
     "output_type": "stream",
     "text": [
      "[[1 2 3]\n",
      " [4 5 6]]\n",
      "[[1 4]\n",
      " [2 5]\n",
      " [3 6]]\n"
     ]
    }
   ],
   "source": [
    "arr = np.array([[1,2,3],[4,5,6]])\n",
    "print(arr)\n",
    "print(arr.T)"
   ]
  },
  {
   "cell_type": "markdown",
   "metadata": {},
   "source": [
    "### 배열의 크기 변형 : reshape(),flatten(),ravel()"
   ]
  },
  {
   "cell_type": "code",
   "execution_count": 110,
   "metadata": {},
   "outputs": [
    {
     "name": "stdout",
     "output_type": "stream",
     "text": [
      "[ 0  1  2  3  4  5  6  7  8  9 10 11]\n",
      "(12,)\n",
      "---------------------\n",
      "[[ 0  1  2  3]\n",
      " [ 4  5  6  7]\n",
      " [ 8  9 10 11]]\n",
      "(3, 4)\n",
      "---------------------\n",
      "[[ 0  1  2  3]\n",
      " [ 4  5  6  7]\n",
      " [ 8  9 10 11]]\n",
      "(3, 4)\n",
      "---------------------\n",
      "[[[ 0  1  2]\n",
      "  [ 3  4  5]]\n",
      "\n",
      " [[ 6  7  8]\n",
      "  [ 9 10 11]]]\n",
      "(2, 2, 3)\n",
      "---------------------\n",
      "[ 0  1  2  3  4  5  6  7  8  9 10 11]\n",
      "[ 0  1  2  3  4  5  6  7  8  9 10 11]\n"
     ]
    }
   ],
   "source": [
    "arr = np.arange(12)\n",
    "print(arr)\n",
    "print(arr.shape)\n",
    "\n",
    "print(\"---------------------\")\n",
    "arr1 = arr.reshape(3,4)\n",
    "print(arr1)\n",
    "print(arr1.shape)\n",
    "\n",
    "print(\"---------------------\")\n",
    "arr2=arr.reshape(3,-1)    #행 또는 열 정해지면 나머지는 알아서 해라 -1\n",
    "print(arr2)\n",
    "print(arr2.shape)\n",
    "\n",
    "print(\"---------------------\")\n",
    "arr3=arr.reshape(2,2,3)\n",
    "print(arr3)\n",
    "print(arr3.shape)\n",
    "\n",
    "print(\"---------------------\")\n",
    "print(arr3.flatten())\n",
    "print(arr3.ravel())"
   ]
  },
  {
   "cell_type": "markdown",
   "metadata": {},
   "source": [
    "### 배열 연결(병합) : stack(),hstack(),vstack(),dstack(),tile()"
   ]
  },
  {
   "cell_type": "code",
   "execution_count": 116,
   "metadata": {},
   "outputs": [
    {
     "name": "stdout",
     "output_type": "stream",
     "text": [
      "[[1. 1. 1. 1. 1.]\n",
      " [1. 1. 1. 1. 1.]]\n",
      "(2, 5)\n"
     ]
    }
   ],
   "source": [
    "arr1=np.ones((2,3))\n",
    "arr2 =np.ones((2,2))\n",
    "\n",
    "arr3 = np.hstack([arr1,arr2])\n",
    "print(arr3)\n",
    "\n",
    "print(arr3.shape)\n",
    "\n",
    "\n"
   ]
  },
  {
   "cell_type": "code",
   "execution_count": 137,
   "metadata": {},
   "outputs": [
    {
     "name": "stdout",
     "output_type": "stream",
     "text": [
      "[[1. 1. 1. 1.]\n",
      " [1. 1. 1. 1.]\n",
      " [1. 1. 1. 1.]]\n",
      "[[0. 0. 0. 0.]\n",
      " [0. 0. 0. 0.]\n",
      " [0. 0. 0. 0.]]\n",
      "---------------------\n",
      "[[[1. 0.]\n",
      "  [1. 0.]\n",
      "  [1. 0.]\n",
      "  [1. 0.]]\n",
      "\n",
      " [[1. 0.]\n",
      "  [1. 0.]\n",
      "  [1. 0.]\n",
      "  [1. 0.]]\n",
      "\n",
      " [[1. 0.]\n",
      "  [1. 0.]\n",
      "  [1. 0.]\n",
      "  [1. 0.]]]\n",
      "(3, 4, 2)\n",
      "3\n",
      "[[[1. 1. 1. 1.]\n",
      "  [1. 1. 1. 1.]\n",
      "  [1. 1. 1. 1.]]\n",
      "\n",
      " [[0. 0. 0. 0.]\n",
      "  [0. 0. 0. 0.]\n",
      "  [0. 0. 0. 0.]]]\n",
      "---------------------\n",
      "[[[1. 1. 1. 1.]\n",
      "  [1. 1. 1. 1.]\n",
      "  [1. 1. 1. 1.]]\n",
      "\n",
      " [[0. 0. 0. 0.]\n",
      "  [0. 0. 0. 0.]\n",
      "  [0. 0. 0. 0.]]]\n",
      "(2, 3, 4)\n",
      "---------------------\n",
      "[[[1. 1. 1. 1.]\n",
      "  [0. 0. 0. 0.]]\n",
      "\n",
      " [[1. 1. 1. 1.]\n",
      "  [0. 0. 0. 0.]]\n",
      "\n",
      " [[1. 1. 1. 1.]\n",
      "  [0. 0. 0. 0.]]]\n",
      "(3, 2, 4)\n"
     ]
    }
   ],
   "source": [
    "#3행 4열 2개가 3행 2열짜리로 바뀜\n",
    "arr1 = np.ones((3,4))\n",
    "arr2 = np.zeros((3,4))\n",
    "print(arr1)\n",
    "print(arr2)\n",
    "\n",
    "print(\"---------------------\")\n",
    "arr3= np.dstack([arr1,arr2])\n",
    "print(arr3)\n",
    "print(arr3.shape)\n",
    "print(arr3.ndim)\n",
    "\n",
    "arr3= np.stack([arr1,arr2])\n",
    "print(arr3)\n",
    "\n",
    "\n",
    "\n",
    "print(\"---------------------\")\n",
    "arr3= np.stack([arr1,arr2],axis = 0)\n",
    "print(arr3)\n",
    "print(arr3.shape)\n",
    "\n",
    "print(\"---------------------\")\n",
    "arr3= np.stack([arr1,arr2],axis = 1)\n",
    "print(arr3)\n",
    "print(arr3.shape)"
   ]
  },
  {
   "cell_type": "code",
   "execution_count": 138,
   "metadata": {},
   "outputs": [
    {
     "name": "stdout",
     "output_type": "stream",
     "text": [
      "[[0 1 2]\n",
      " [3 4 5]]\n",
      "------------------------\n",
      "[[0 1 2 0 1 2]\n",
      " [3 4 5 3 4 5]]\n",
      "------------------------\n",
      "[[0 1 2 0 1 2 0 1 2]\n",
      " [3 4 5 3 4 5 3 4 5]]\n",
      "------------------------\n",
      "[[0 1 2 0 1 2]\n",
      " [3 4 5 3 4 5]\n",
      " [0 1 2 0 1 2]\n",
      " [3 4 5 3 4 5]\n",
      " [0 1 2 0 1 2]\n",
      " [3 4 5 3 4 5]]\n"
     ]
    }
   ],
   "source": [
    "# tile()\n",
    "arr = np.array([[0, 1, 2], [3, 4, 5]])\n",
    "print(arr)\n",
    "print('------------------------')\n",
    "print(np.tile(arr, 2))       # 옆으로 2배\n",
    "print('------------------------')\n",
    "print(np.tile(arr, 3))       # 옆으로 3배\n",
    "print('------------------------')\n",
    "print(np.tile(arr, (3, 2)))  # 밑으로 3배 옆으로 2배"
   ]
  },
  {
   "cell_type": "markdown",
   "metadata": {},
   "source": [
    "## 2차원 그리드 포인트 생성 : meshgrid()["
   ]
  },
  {
   "cell_type": "code",
   "execution_count": 143,
   "metadata": {},
   "outputs": [
    {
     "name": "stdout",
     "output_type": "stream",
     "text": [
      "[0 1 2]\n",
      "[0 1 2 3 4]\n",
      "-------------------\n",
      "[[0 1 2]\n",
      " [0 1 2]\n",
      " [0 1 2]\n",
      " [0 1 2]\n",
      " [0 1 2]]\n",
      "===========\n",
      "[[0 0 0]\n",
      " [1 1 1]\n",
      " [2 2 2]\n",
      " [3 3 3]\n",
      " [4 4 4]]\n"
     ]
    },
    {
     "data": {
      "text/plain": [
       "<matplotlib.collections.PathCollection at 0x21edf51d048>"
      ]
     },
     "execution_count": 143,
     "metadata": {},
     "output_type": "execute_result"
    },
    {
     "data": {
      "image/png": "[encoded data removed]",
      "text/plain": [
       "<Figure size 432x288 with 1 Axes>"
      ]
     },
     "metadata": {
      "needs_background": "light"
     },
     "output_type": "display_data"
    }
   ],
   "source": [
    "x = np.arange(3)\n",
    "print(x)\n",
    "\n",
    "y = np.arange(5)\n",
    "print(y)\n",
    "\n",
    "print('-------------------')\n",
    "\n",
    "X, Y = np.meshgrid(x, y)\n",
    "print(X)\n",
    "print('===========')\n",
    "print(Y)\n",
    "\n",
    "import matplotlib.pylab as plt\n",
    "plt.scatter(X,Y)"
   ]
  },
  {
   "cell_type": "code",
   "execution_count": 150,
   "metadata": {},
   "outputs": [
    {
     "name": "stdout",
     "output_type": "stream",
     "text": [
      "[(array([0, 1, 2]), array([0, 0, 0])), (array([0, 1, 2]), array([1, 1, 1])), (array([0, 1, 2]), array([2, 2, 2])), (array([0, 1, 2]), array([3, 3, 3])), (array([0, 1, 2]), array([4, 4, 4]))]\n"
     ]
    },
    {
     "data": {
      "text/plain": [
       "[[(0, 0), (1, 0), (2, 0)],\n",
       " [(0, 1), (1, 1), (2, 1)],\n",
       " [(0, 2), (1, 2), (2, 2)],\n",
       " [(0, 3), (1, 3), (2, 3)],\n",
       " [(0, 4), (1, 4), (2, 4)]]"
      ]
     },
     "execution_count": 150,
     "metadata": {},
     "output_type": "execute_result"
    }
   ],
   "source": [
    "\"\"\"\n",
    "[[(0,0),(1,0),(2,0)],\n",
    "[(0,1),(1,1),(2,1)],\n",
    "[(0,2),(1,2),(2,2)],\n",
    "[(0,3),(1,3),(2,3)],\n",
    "[(0,4),(1,4),(2,4)]]\n",
    "\n",
    "\"\"\"\n",
    "print(list(zip(X, Y)))\n",
    "\n",
    "[list(zip(x, y)) for x, y in zip(X, Y)]"
   ]
  },
  {
   "cell_type": "markdown",
   "metadata": {},
   "source": [
    "### 브로드 캐스팅(BroadCasting)\n",
    "\n",
    "     - 크기가 서로 다른 행렬(벡터)끼리 연산을 가능하게 하는 것"
   ]
  },
  {
   "cell_type": "code",
   "execution_count": 175,
   "metadata": {},
   "outputs": [
    {
     "name": "stdout",
     "output_type": "stream",
     "text": [
      "[0, 1, 2, 3, 4]\n",
      "[[0], [1], [2], [3], [4]]\n",
      "[range(0, 3), range(1, 4), range(2, 5), range(3, 6), range(4, 7)]\n"
     ]
    }
   ],
   "source": [
    "print([i for i in range(5)])\n",
    "print([[i]for i in range(5)])\n",
    "print([range(7)[i:i+3] for i in range(5)])"
   ]
  },
  {
   "cell_type": "code",
   "execution_count": 179,
   "metadata": {},
   "outputs": [
    {
     "name": "stdout",
     "output_type": "stream",
     "text": [
      "[[0 1 2]\n",
      " [1 2 3]\n",
      " [2 3 4]\n",
      " [3 4 5]\n",
      " [4 5 6]]\n",
      "[[0]\n",
      " [1]\n",
      " [2]\n",
      " [3]\n",
      " [4]]\n",
      "[[ 0  1  2]\n",
      " [ 2  3  4]\n",
      " [ 4  5  6]\n",
      " [ 6  7  8]\n",
      " [ 8  9 10]]\n",
      "-------------------\n",
      "[[0 2 4]\n",
      " [1 3 5]\n",
      " [2 4 6]\n",
      " [3 5 7]\n",
      " [4 6 8]]\n"
     ]
    }
   ],
   "source": [
    "x = np.vstack([range(7)[i:i+3] for i in range(5)])\n",
    "print(x)\n",
    "y = np.arange(5)[: ,np.newaxis ]\n",
    "print(y)\n",
    "\n",
    "\n",
    "print(x+y)\n",
    "print('-------------------')\n",
    "\n",
    "y=np.arange(3)\n",
    "print(x+y)"
   ]
  },
  {
   "cell_type": "code",
   "execution_count": 176,
   "metadata": {},
   "outputs": [
    {
     "data": {
      "text/plain": [
       "range(0, 7)"
      ]
     },
     "execution_count": 176,
     "metadata": {},
     "output_type": "execute_result"
    }
   ],
   "source": [
    "range(7)"
   ]
  },
  {
   "cell_type": "markdown",
   "metadata": {},
   "source": [
    "### 차원축소 (DIMENSION REDUCTION) 연산\n",
    "\n",
    "    - 최대값/ 최소값 : min(), max(), argmin(), argmax()\n",
    "    - 대표값 : sum(), mean(), median(), std(), var()\n",
    "    - 논리값 : all(), any()"
   ]
  },
  {
   "cell_type": "code",
   "execution_count": 181,
   "metadata": {},
   "outputs": [
    {
     "name": "stdout",
     "output_type": "stream",
     "text": [
      "0\n",
      "1\n"
     ]
    }
   ],
   "source": [
    "x = np.array([1,3,2])\n",
    "print(np.argmin(x))   #최솟값이 있는 위치\n",
    "print(np.argmax(x))"
   ]
  },
  {
   "cell_type": "code",
   "execution_count": 182,
   "metadata": {},
   "outputs": [
    {
     "name": "stdout",
     "output_type": "stream",
     "text": [
      "True\n",
      "False\n"
     ]
    }
   ],
   "source": [
    "print(np.any([True, True, False]))\n",
    "print(np.all([True, True, False]))"
   ]
  },
  {
   "cell_type": "code",
   "execution_count": 183,
   "metadata": {},
   "outputs": [
    {
     "name": "stdout",
     "output_type": "stream",
     "text": [
      "6\n",
      "[3 3]\n",
      "[2 4]\n"
     ]
    }
   ],
   "source": [
    "x = np.array( [ [1, 1], [2, 2] ] )\n",
    "print(x.sum())\n",
    "print(x.sum(axis=0))\n",
    "print(x.sum(axis=1))"
   ]
  },
  {
   "cell_type": "markdown",
   "metadata": {},
   "source": [
    "### 기술통계\n",
    "    -len()\n",
    "    -sum(), mean(), median(), std(), var()\n",
    "    -percentile() : 사분위수"
   ]
  },
  {
   "cell_type": "code",
   "execution_count": 188,
   "metadata": {},
   "outputs": [],
   "source": [
    "x = np.array([18,   5,  10,  23,  19,  -8,  10,   0,   0,   5,   2,  15,   8,\n",
    "              2,   5,   4,  15,  -1,   4,  -7, -24,   7,   9,  -6,  23, -13])\n",
    "\n"
   ]
  },
  {
   "cell_type": "code",
   "execution_count": 193,
   "metadata": {},
   "outputs": [
    {
     "name": "stdout",
     "output_type": "stream",
     "text": [
      "최솟값 :  -24.0\n",
      "최대값 :  23.0\n",
      "1사분위 :  0.0\n",
      "2사분위 :  5.0\n",
      "3사분위 :  10.0\n"
     ]
    }
   ],
   "source": [
    "print(\"최솟값 : \", np.percentile(x,0))\n",
    "print(\"최대값 : \", np.percentile(x,100))\n",
    "print(\"1사분위 : \", np.percentile(x,25))\n",
    "print(\"2사분위 : \", np.percentile(x,50))\n",
    "print(\"3사분위 : \", np.percentile(x,75))"
   ]
  },
  {
   "cell_type": "markdown",
   "metadata": {},
   "source": [
    "### 정렬"
   ]
  },
  {
   "cell_type": "code",
   "execution_count": 202,
   "metadata": {},
   "outputs": [
    {
     "name": "stdout",
     "output_type": "stream",
     "text": [
      "[[ 3  4  5  7]\n",
      " [ 1  9 11 12]\n",
      " [ 1  2 14 15]]\n",
      "[[ 3  4  5  7]\n",
      " [ 1  9 11 12]\n",
      " [ 1  2 14 15]]\n",
      "[[ 1  3  1  7]\n",
      " [ 2 12  5  9]\n",
      " [ 4 15 11 14]]\n",
      "[[ 4  3  5  7]\n",
      " [ 1 12 11  9]\n",
      " [ 2 15  1 14]]\n"
     ]
    }
   ],
   "source": [
    "arr = np.array([[4,3,5,7],\n",
    "               [1,12,11,9],\n",
    "               [2,15,1,14]])\n",
    "\n",
    "print(np.sort(arr))\n",
    "print(np.sort(arr,axis=1))   #디폴트가 1 (행)   0: 열\n",
    "print(np.sort(arr,axis=0)) \n",
    "print(arr)    #원본이 바뀐건 아님. 결국 솔트는 다른 메모리에 저장된다는 것\n",
    "arr= np.sort(arr) # 원본도 바꿈"
   ]
  },
  {
   "cell_type": "code",
   "execution_count": 203,
   "metadata": {},
   "outputs": [
    {
     "name": "stdout",
     "output_type": "stream",
     "text": [
      "[[ 3  4  5  7]\n",
      " [ 1  9 11 12]\n",
      " [ 1  2 14 15]]\n"
     ]
    }
   ],
   "source": [
    "arr = np.array([[4,3,5,7],\n",
    "               [1,12,11,9],\n",
    "               [2,15,1,14]])\n",
    "\n",
    "arr.sort()   #원본을 바꿈 in-place\n",
    "print(arr)"
   ]
  },
  {
   "cell_type": "code",
   "execution_count": 204,
   "metadata": {},
   "outputs": [
    {
     "name": "stdout",
     "output_type": "stream",
     "text": [
      "[2 3 1 0]\n"
     ]
    }
   ],
   "source": [
    "#argsort()\n",
    "\n",
    "arr = np.array([42,38,12,25]) #순서대로 0,1,2,3\n",
    "print(np.argsort(arr)) #정렬되니 가장 작은 2가 앞으로!\n"
   ]
  },
  {
   "cell_type": "code",
   "execution_count": 205,
   "metadata": {},
   "outputs": [
    {
     "name": "stdout",
     "output_type": "stream",
     "text": [
      "[2 3 1 0]\n",
      "[12 25 38 42]\n"
     ]
    }
   ],
   "source": [
    "arr = np.array([42,38,12,25])\n",
    "idx = np.argsort(arr)\n",
    "\n",
    "print(idx)\n",
    "print(arr[idx])"
   ]
  },
  {
   "cell_type": "markdown",
   "metadata": {},
   "source": [
    "### 난수\n",
    "    -rand() : 0-1사이의 균일 분포\n",
    "    -randn()\n",
    "    ====>범위가 정해졌으니 갯수\n",
    "    \n",
    "    -randint()\n",
    "    ===>  ()안 까지 하나"
   ]
  },
  {
   "cell_type": "code",
   "execution_count": 209,
   "metadata": {},
   "outputs": [
    {
     "name": "stdout",
     "output_type": "stream",
     "text": [
      "[0.09710953 0.73735791 0.99598732 0.07537733 0.1690187  0.19074061\n",
      " 0.20495199 0.73474569 0.67854856 0.95257917]\n",
      "[-2.43123137 -0.50710078 -0.86853882 -0.36403564 -0.65775246  1.35651859\n",
      " -1.68005201  0.87377385  1.90961164  1.20753013]\n",
      "[[-0.66147436  0.16806523  0.3646448  -0.83853884  2.16282067]\n",
      " [-1.42834519 -2.37588183 -1.31671236  1.73360839 -0.76780285]\n",
      " [ 0.5899823   0.84573346  0.66065777 -0.72097337  1.48054912]]\n"
     ]
    }
   ],
   "source": [
    "print(np.random.rand(10))\n",
    "print(np.random.randn(10))\n",
    "print(np.random.randn(3,5))"
   ]
  },
  {
   "cell_type": "code",
   "execution_count": 213,
   "metadata": {},
   "outputs": [
    {
     "name": "stdout",
     "output_type": "stream",
     "text": [
      "5\n",
      "14\n",
      "[14 19 15 11 18 11 12 11 19 14 14 15 17 17 17 18 18 18 15 19 16 15 15 16\n",
      " 13 13 18 11 17 17 15 18 19 19 18 16 11 17 17 14 17 17 17 17 11 13 17 11\n",
      " 12 18 17 14 17 11 15 18 15 18 16 13 15 15 11 11 15 19 13 15 18 13 12 13\n",
      " 17 13 16 18 19 13 14 11 19 16 13 18 14 11 19 12 18 11 19 14 18 17 14 15\n",
      " 19 11 15 15]\n",
      "[[16 14 15 14]\n",
      " [11 13 11 16]\n",
      " [13 11 16 13]]\n"
     ]
    }
   ],
   "source": [
    "print(np.random.randint(10))\n",
    "print(np.random.randint(11,20))\n",
    "print(np.random.randint(11,20, size=100))\n",
    "print(np.random.randint(11,20, size=(3,4)))"
   ]
  },
  {
   "cell_type": "code",
   "execution_count": 214,
   "metadata": {},
   "outputs": [
    {
     "data": {
      "text/plain": [
       "array([0.54340494, 0.27836939, 0.42451759, 0.84477613, 0.00471886])"
      ]
     },
     "execution_count": 214,
     "metadata": {},
     "output_type": "execute_result"
    }
   ],
   "source": [
    "# 재현성\n",
    "np.random.seed(100)\n",
    "np.random.rand(5)"
   ]
  },
  {
   "cell_type": "code",
   "execution_count": 215,
   "metadata": {},
   "outputs": [
    {
     "name": "stdout",
     "output_type": "stream",
     "text": [
      "[0 1 2 3 4 5 6 7 8 9]\n",
      "[8 4 3 0 1 6 7 9 5 2]\n"
     ]
    }
   ],
   "source": [
    "# 데이터의 순서 바꾸기\n",
    "x = np.arange(10)\n",
    "print(x)\n",
    "\n",
    "np.random.shuffle(x)\n",
    "print(x)"
   ]
  },
  {
   "cell_type": "code",
   "execution_count": 225,
   "metadata": {},
   "outputs": [
    {
     "data": {
      "text/plain": [
       "array([3, 0, 3, 0, 3, 0, 3, 3, 3, 3])"
      ]
     },
     "execution_count": 225,
     "metadata": {},
     "output_type": "execute_result"
    }
   ],
   "source": [
    "#샘플링 : 복원(default : replace=True), 비복원\n",
    "\n",
    "np.random.choice(5,5)\n",
    "np.random.choice(5,3)\n",
    "\n",
    "np.random.choice(5,5, replace=False)\n",
    "\n",
    "np.random.choice(5,10,p=[0.1, 0, 0.3, 0.6, 0] )  #확률의 합은 1\n"
   ]
  },
  {
   "cell_type": "markdown",
   "metadata": {},
   "source": [
    "### 정수형 데이터 카운팅"
   ]
  },
  {
   "cell_type": "code",
   "execution_count": 236,
   "metadata": {},
   "outputs": [
    {
     "name": "stdout",
     "output_type": "stream",
     "text": [
      "5\n",
      "['a' 'b' 'c']\n"
     ]
    }
   ],
   "source": [
    "arr = np.array(['a', 'b', 'b', 'c', 'a'])   # 난수가 정수값이면 unique 명령이나 bincount 명령으로 데이터 값을 분석할 수 있다.\n",
    "print(len(arr))\n",
    "print(np.unique(arr)) #unique 명령은 데이터에서 중복된 값을 제거하고 중복되지 않는 값의 리스트를 출력한다."
   ]
  },
  {
   "cell_type": "code",
   "execution_count": 240,
   "metadata": {},
   "outputs": [
    {
     "name": "stdout",
     "output_type": "stream",
     "text": [
      "['a' 'b' 'c']\n",
      "[2 2 1]\n"
     ]
    }
   ],
   "source": [
    "index, counts = np.unique(arr, return_counts=True)\n",
    "print(index)\n",
    "print(counts)"
   ]
  },
  {
   "cell_type": "code",
   "execution_count": 242,
   "metadata": {},
   "outputs": [
    {
     "name": "stdout",
     "output_type": "stream",
     "text": [
      "[0 2 3 1 0 0]\n"
     ]
    }
   ],
   "source": [
    "#bincount : 발생하지 않은 사건에 대해서도 카운팅\n",
    "\n",
    "arr=np.array([1, 1, 2, 2, 2, 3])\n",
    "print(np.bincount(arr, minlength=6))  #0이 0번 1이 2번 ---"
   ]
  },
  {
   "cell_type": "markdown",
   "metadata": {},
   "source": [
    "### 데이터 분석 실습 :  영화 평점 데이터\n",
    "    \n",
    "        http://grouplens.org\n",
    "        https://grouplens.org/datasets/movielens/ml-1m.zip\n",
    "        \n",
    "       "
   ]
  },
  {
   "cell_type": "code",
   "execution_count": 4,
   "metadata": {},
   "outputs": [
    {
     "name": "stdout",
     "output_type": "stream",
     "text": [
      "[[        1      1193         5 978300760]\n",
      " [        1       661         3 978302109]\n",
      " [        1       914         3 978301968]\n",
      " ...\n",
      " [     6040       562         5 956704746]\n",
      " [     6040      1096         4 956715648]\n",
      " [     6040      1097         4 956715569]]\n",
      "(1000209, 4)\n"
     ]
    }
   ],
   "source": [
    "data = np.loadtxt(\"data/movie/ratings.dat\", delimiter=\"::\", dtype=\"i\")\n",
    "print(data)\n",
    "print(data.shape)"
   ]
  },
  {
   "cell_type": "code",
   "execution_count": 5,
   "metadata": {},
   "outputs": [
    {
     "data": {
      "text/plain": [
       "array([[        1,      1193,         5, 978300760],\n",
       "       [        1,       661,         3, 978302109],\n",
       "       [        1,       914,         3, 978301968],\n",
       "       [        1,      3408,         4, 978300275],\n",
       "       [        1,      2355,         5, 978824291],\n",
       "       [        1,      1197,         3, 978302268],\n",
       "       [        1,      1287,         5, 978302039],\n",
       "       [        1,      2804,         5, 978300719],\n",
       "       [        1,       594,         4, 978302268],\n",
       "       [        1,       919,         4, 978301368],\n",
       "       [        1,       595,         5, 978824268],\n",
       "       [        1,       938,         4, 978301752],\n",
       "       [        1,      2398,         4, 978302281],\n",
       "       [        1,      2918,         4, 978302124],\n",
       "       [        1,      1035,         5, 978301753],\n",
       "       [        1,      2791,         4, 978302188],\n",
       "       [        1,      2687,         3, 978824268],\n",
       "       [        1,      2018,         4, 978301777],\n",
       "       [        1,      3105,         5, 978301713],\n",
       "       [        1,      2797,         4, 978302039],\n",
       "       [        1,      2321,         3, 978302205]], dtype=int32)"
      ]
     },
     "execution_count": 5,
     "metadata": {},
     "output_type": "execute_result"
    }
   ],
   "source": [
    "#1행부터 20행까지 출력\n",
    "data[:21,:]"
   ]
  },
  {
   "cell_type": "code",
   "execution_count": 6,
   "metadata": {},
   "outputs": [
    {
     "data": {
      "text/plain": [
       "array([[   1,  720],\n",
       "       [   1, 1270],\n",
       "       [   1,  527],\n",
       "       [   1, 2340],\n",
       "       [   1,   48],\n",
       "       [   1, 1097],\n",
       "       [   1, 1721],\n",
       "       [   1, 1545],\n",
       "       [   1,  745],\n",
       "       [   1, 2294]], dtype=int32)"
      ]
     },
     "execution_count": 6,
     "metadata": {},
     "output_type": "execute_result"
    }
   ],
   "source": [
    "#21행부터 30행까지 userid와 movied만 출력\n",
    "data[21:31,:2]"
   ]
  },
  {
   "cell_type": "code",
   "execution_count": 10,
   "metadata": {},
   "outputs": [
    {
     "name": "stdout",
     "output_type": "stream",
     "text": [
      "3.581564453029317\n",
      "3.581564453029317\n"
     ]
    }
   ],
   "source": [
    "# 전체 평점 평균\n",
    "print(data[:,2].mean())\n",
    "print(np.mean(data[:,2]))"
   ]
  },
  {
   "cell_type": "code",
   "execution_count": 24,
   "metadata": {},
   "outputs": [
    {
     "name": "stdout",
     "output_type": "stream",
     "text": [
      "결과 :  [[1, 4.188679245283019], [2, 3.7131782945736433], [3, 3.9019607843137254], [4, 4.190476190476191], [5, 3.1464646464646466], [6, 3.9014084507042255], [7, 4.32258064516129], [8, 3.884892086330935], [9, 3.7358490566037736], [10, 4.114713216957606], [11, 3.2773722627737225]]\n"
     ]
    }
   ],
   "source": [
    "#사용자별 평점 평균 (10명만 출력)\n",
    "\n",
    "user_id = np.unique(data[:,0])\n",
    "mean_value = []\n",
    "\n",
    "for id in user_id : \n",
    "    \n",
    "    data_user = data[data[:,0]== id, : ]\n",
    "    value = data_user[:,2].mean()\n",
    "    mean_value.append([id,value])\n",
    "    \n",
    "print(\"결과 : \", mean_value[:11])    "
   ]
  },
  {
   "cell_type": "code",
   "execution_count": 25,
   "metadata": {},
   "outputs": [
    {
     "name": "stdout",
     "output_type": "stream",
     "text": [
      "결과 :  [[1, 5], [2, 5], [3, 5], [4, 5], [5, 5], [6, 5], [7, 5], [8, 5], [9, 5], [10, 5], [11, 5]]\n"
     ]
    }
   ],
   "source": [
    "# 최고 평점 구하기\n",
    "user_id = np.unique(data[:,0])\n",
    "max_value = []\n",
    "\n",
    "for id in user_id : \n",
    "    \n",
    "    data_user = data[data[:,0]== id, : ]    \n",
    "    # data[:,0] = 1 1 1 1 1 1 1  ... 모양 데이터 이므로 하나하나 비교가 돼서 행이 출력됨\n",
    "    value = data_user[:,2].max()\n",
    "    max_value.append([id,value])\n",
    "    \n",
    "print(\"결과 : \", max_value[:11]) \n"
   ]
  },
  {
   "cell_type": "code",
   "execution_count": 37,
   "metadata": {
    "scrolled": true
   },
   "outputs": [
    {
     "name": "stdout",
     "output_type": "stream",
     "text": [
      "282\n",
      "[283.           4.96296296]\n",
      "4.962962962962963\n",
      "[3597 4485 2743 ... 3323 2338  282]\n",
      "[ 282 2338 3323 ... 2743 4485 3597]\n"
     ]
    }
   ],
   "source": [
    "arr_mean_values = np.array(mean_value)\n",
    "#print(arr_mean_value)\n",
    "print(np.argmax(arr_mean_values[:,1 ]))\n",
    "print(arr_mean_values[282])\n",
    "print(np.max(arr_mean_values[:,1 ]))\n",
    "print(np.argsort(arr_mean_values[:,1 ]))\n",
    "print(np.argsort(arr_mean_values[:,1 ])[::-1]) #역순\n"
   ]
  },
  {
   "cell_type": "code",
   "execution_count": 45,
   "metadata": {},
   "outputs": [
    {
     "data": {
      "text/plain": [
       "[1, 3, 5]"
      ]
     },
     "execution_count": 45,
     "metadata": {},
     "output_type": "execute_result"
    }
   ],
   "source": [
    "#   :: extended slice 확장된 슬라이스 방법  시작과 끝 생략\n",
    "\n",
    "arr = range(10)\n",
    "list(arr)\n",
    "\n",
    "list(arr[::2])\n",
    "\n",
    "list(arr[1::2])\n",
    "\n",
    "list(arr[::-1])  #역순접근\n",
    "list(arr[::-2])\n",
    "\n",
    "list(arr[3::-1])\n",
    "list(arr[1:6:2])"
   ]
  },
  {
   "cell_type": "code",
   "execution_count": 26,
   "metadata": {},
   "outputs": [
    {
     "name": "stdout",
     "output_type": "stream",
     "text": [
      "5\n"
     ]
    }
   ],
   "source": [
    "print(np.max(data[:,2]))"
   ]
  },
  {
   "cell_type": "code",
   "execution_count": 29,
   "metadata": {},
   "outputs": [
    {
     "name": "stdout",
     "output_type": "stream",
     "text": [
      "<class 'numpy.ndarray'>\n"
     ]
    }
   ],
   "source": [
    "# 사용자별 평점 평균 데이터를 파일로 저장\n",
    "arr_mean_value = np.array(mean_value)\n",
    "print(type(arr_mean_value))\n",
    "\n",
    "np.savetxt(\"data/movie/id_rations.csv\",arr_mean_value, delimiter=\",\", fmt= \"%.1f\" )"
   ]
  },
  {
   "cell_type": "code",
   "execution_count": 30,
   "metadata": {},
   "outputs": [
    {
     "name": "stdout",
     "output_type": "stream",
     "text": [
      "[   1    1    1 ... 6040 6040 6040]\n"
     ]
    }
   ],
   "source": [
    "print(data[:, 0])  #원래 세로로 돼야함... "
   ]
  },
  {
   "cell_type": "code",
   "execution_count": 31,
   "metadata": {},
   "outputs": [
    {
     "name": "stdout",
     "output_type": "stream",
     "text": [
      "[        1      1193         5 978300760]\n"
     ]
    }
   ],
   "source": [
    "print(data[0, :])"
   ]
  },
  {
   "cell_type": "code",
   "execution_count": null,
   "metadata": {},
   "outputs": [],
   "source": []
  },
  {
   "cell_type": "code",
   "execution_count": null,
   "metadata": {},
   "outputs": [],
   "source": []
  },
  {
   "cell_type": "code",
   "execution_count": null,
   "metadata": {},
   "outputs": [],
   "source": []
  }
 ],
 "metadata": {
  "kernelspec": {
   "display_name": "Python 3",
   "language": "python",
   "name": "python3"
  },
  "language_info": {
   "codemirror_mode": {
    "name": "ipython",
    "version": 3
   },
   "file_extension": ".py",
   "mimetype": "text/x-python",
   "name": "python",
   "nbconvert_exporter": "python",
   "pygments_lexer": "ipython3",
   "version": "3.7.6"
  }
 },
 "nbformat": 4,
 "nbformat_minor": 4
}
